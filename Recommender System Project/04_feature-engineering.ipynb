{
 "cells": [
  {
   "cell_type": "markdown",
   "id": "46779aaf-4546-4acd-989f-a26f956056e3",
   "metadata": {
    "tags": []
   },
   "source": [
    "# Group Project: Movie Recommendations (2487-T2 Machine Learning) [Group 2]\n",
    "- Nova School of Business and Economics, Portugal\n",
    "- Instructor: Qiwei Han, Ph.D.\n",
    "- Program: Masters Program in Business Analytics\n",
    "- Group Members: \n",
    "    - **Luca Silvano Carocci (53942)**\n",
    "    - **Fridtjov Höyerholt Stokkeland (52922)**\n",
    "    - **Diego García Rieckhof (53046)**\n",
    "    - **Matilde Pesce (53258)**\n",
    "    - **Florian Fritz Preiss (54385)**<br>\n",
    "\n",
    "---\n",
    "# Phase 3: Data Preparation [04 Feature Engineering]\n",
    "\n",
    "## 3.1 Content-Based Recommender System\n",
    "\n",
    "In this section, we will engineer the following features for our recommender system: vote average, vote count, score, genres, actors, directors, languages, collection name, combined text, movie age, key words, and description sentiment. We will also further preprocess the data and merge datasetsas needed.\n",
    "\n",
    "\n",
    "**Vote Average and Vote Count:** These two features are created by aggregating the ratings given by users for each movie. The vote average is the mean rating for each movie, while the vote count is the number of ratings given by users for each movie. These features are useful for a recommender system because they give an indication of how popular or well-received a movie is.\n",
    "\n",
    "**Score (weighted rating):** The score feature is a weighted rating that takes into account both the vote average and the vote count. This feature is useful for a recommender system because it provides a more nuanced view of a movie's popularity than just the vote average or vote count alone.\n",
    "\n",
    "**Genres, Actors, Directors, Languages, and Collection Name:** These features are created by extracting information from the movie's metadata, including its genres, actors, directors, languages, and collection name. These features are useful for a recommender system because they provide information about the movie's content and production that can be used to recommend similar movies.\n",
    "\n",
    "**Combined Text:** The combined text feature is created by concatenating all of the movie's metadata features into a single string. This feature is useful for a recommender system because it allows the system to perform text-based analysis and recommend movies that are similar in content or theme.\n",
    "\n",
    "**Movie Age:** The movie age feature is created by subtracting the movie's release year from the current year. This feature is useful for a recommender system because it allows the system to recommend newer or older movies depending on the user's preference.\n",
    "\n",
    "**Key Words:** The key words feature is created by using a text analysis tool to extract the most important words from the combined text feature. This feature is useful for a recommender system because it allows the system to recommend movies that have similar content or themes, even if they don't share the same metadata features.\n",
    "\n",
    "**Description Sentiment:** The description sentiment feature is created by using a natural language processing tool to analyze the sentiment of the movie's description. This feature is useful for a recommender system because it allows the system to recommend movies that have a similar mood or tone."
   ]
  },
  {
   "cell_type": "code",
   "execution_count": 1,
   "id": "133bd2d0-61a4-4c2d-9489-6d5f38239aa3",
   "metadata": {},
   "outputs": [
    {
     "name": "stderr",
     "output_type": "stream",
     "text": [
      "[nltk_data] Downloading package stopwords to\n",
      "[nltk_data]     C:\\Users\\flori\\AppData\\Roaming\\nltk_data...\n",
      "[nltk_data]   Package stopwords is already up-to-date!\n",
      "[nltk_data] Downloading package punkt to\n",
      "[nltk_data]     C:\\Users\\flori\\AppData\\Roaming\\nltk_data...\n",
      "[nltk_data]   Package punkt is already up-to-date!\n"
     ]
    }
   ],
   "source": [
    "# Required libraries\n",
    "import pandas as pd\n",
    "import numpy as np\n",
    "import datetime\n",
    "import re\n",
    "from ast import literal_eval\n",
    "from rake_nltk import Rake\n",
    "from sklearn.preprocessing import MinMaxScaler\n",
    "import nltk\n",
    "from textblob import TextBlob\n",
    "import warnings\n",
    "\n",
    "# Settings\n",
    "nltk.download('stopwords')\n",
    "nltk.download('punkt')\n",
    "warnings.filterwarnings(\"ignore\")"
   ]
  },
  {
   "cell_type": "code",
   "execution_count": 2,
   "id": "896331e8-82bf-436e-994e-9a002cb3667b",
   "metadata": {},
   "outputs": [
    {
     "data": {
      "text/html": [
       "<div>\n",
       "<style scoped>\n",
       "    .dataframe tbody tr th:only-of-type {\n",
       "        vertical-align: middle;\n",
       "    }\n",
       "\n",
       "    .dataframe tbody tr th {\n",
       "        vertical-align: top;\n",
       "    }\n",
       "\n",
       "    .dataframe thead th {\n",
       "        text-align: right;\n",
       "    }\n",
       "</style>\n",
       "<table border=\"1\" class=\"dataframe\">\n",
       "  <thead>\n",
       "    <tr style=\"text-align: right;\">\n",
       "      <th></th>\n",
       "      <th>movieId</th>\n",
       "      <th>title</th>\n",
       "      <th>genres</th>\n",
       "      <th>year</th>\n",
       "      <th>tmdbId</th>\n",
       "      <th>tag</th>\n",
       "      <th>collection_name</th>\n",
       "      <th>original_language</th>\n",
       "      <th>description</th>\n",
       "      <th>runtime</th>\n",
       "      <th>...</th>\n",
       "      <th>description_meanword_wsw</th>\n",
       "      <th>description_nchars</th>\n",
       "      <th>description_nchars_wsw</th>\n",
       "      <th>description_diff_nchars</th>\n",
       "      <th>description_root_wrds</th>\n",
       "      <th>description_jj_n</th>\n",
       "      <th>description_nn_n</th>\n",
       "      <th>description_prp_n</th>\n",
       "      <th>description_rb_n</th>\n",
       "      <th>description_vb_n</th>\n",
       "    </tr>\n",
       "  </thead>\n",
       "  <tbody>\n",
       "    <tr>\n",
       "      <th>0</th>\n",
       "      <td>1</td>\n",
       "      <td>Toy Story (1995)</td>\n",
       "      <td>[Adventure, Animation, Children, Comedy, Fantasy]</td>\n",
       "      <td>1995-01-01</td>\n",
       "      <td>862</td>\n",
       "      <td>['2009reissueinstereoscopic3-d' '3d'\\n '55movi...</td>\n",
       "      <td>Toy Story Collection</td>\n",
       "      <td>en</td>\n",
       "      <td>Led by Woody, Andy's toys live happily in his ...</td>\n",
       "      <td>81.0</td>\n",
       "      <td>...</td>\n",
       "      <td>5.575758</td>\n",
       "      <td>297</td>\n",
       "      <td>216</td>\n",
       "      <td>81</td>\n",
       "      <td>led woody andy toy live happily room andy birt...</td>\n",
       "      <td>2.0</td>\n",
       "      <td>25.0</td>\n",
       "      <td>4.0</td>\n",
       "      <td>4.0</td>\n",
       "      <td>2.0</td>\n",
       "    </tr>\n",
       "    <tr>\n",
       "      <th>1</th>\n",
       "      <td>2</td>\n",
       "      <td>Jumanji (1995)</td>\n",
       "      <td>[Adventure, Children, Fantasy]</td>\n",
       "      <td>1995-01-01</td>\n",
       "      <td>8844</td>\n",
       "      <td>['adaptationofbook' 'adaptedfrom:book' 'advent...</td>\n",
       "      <td>Jumanji Collection</td>\n",
       "      <td>en</td>\n",
       "      <td>When siblings Judy and Peter discover an encha...</td>\n",
       "      <td>104.0</td>\n",
       "      <td>...</td>\n",
       "      <td>5.675000</td>\n",
       "      <td>391</td>\n",
       "      <td>266</td>\n",
       "      <td>125</td>\n",
       "      <td>sibling judy peter discover enchanted board ga...</td>\n",
       "      <td>3.0</td>\n",
       "      <td>27.0</td>\n",
       "      <td>3.0</td>\n",
       "      <td>3.0</td>\n",
       "      <td>7.0</td>\n",
       "    </tr>\n",
       "  </tbody>\n",
       "</table>\n",
       "<p>2 rows × 32 columns</p>\n",
       "</div>"
      ],
      "text/plain": [
       "  movieId             title  \\\n",
       "0       1  Toy Story (1995)   \n",
       "1       2    Jumanji (1995)   \n",
       "\n",
       "                                              genres       year tmdbId  \\\n",
       "0  [Adventure, Animation, Children, Comedy, Fantasy] 1995-01-01    862   \n",
       "1                     [Adventure, Children, Fantasy] 1995-01-01   8844   \n",
       "\n",
       "                                                 tag       collection_name  \\\n",
       "0  ['2009reissueinstereoscopic3-d' '3d'\\n '55movi...  Toy Story Collection   \n",
       "1  ['adaptationofbook' 'adaptedfrom:book' 'advent...    Jumanji Collection   \n",
       "\n",
       "  original_language                                        description  \\\n",
       "0                en  Led by Woody, Andy's toys live happily in his ...   \n",
       "1                en  When siblings Judy and Peter discover an encha...   \n",
       "\n",
       "   runtime  ... description_meanword_wsw description_nchars  \\\n",
       "0     81.0  ...                 5.575758                297   \n",
       "1    104.0  ...                 5.675000                391   \n",
       "\n",
       "  description_nchars_wsw description_diff_nchars  \\\n",
       "0                    216                      81   \n",
       "1                    266                     125   \n",
       "\n",
       "                               description_root_wrds description_jj_n  \\\n",
       "0  led woody andy toy live happily room andy birt...              2.0   \n",
       "1  sibling judy peter discover enchanted board ga...              3.0   \n",
       "\n",
       "   description_nn_n  description_prp_n  description_rb_n  description_vb_n  \n",
       "0              25.0                4.0               4.0               2.0  \n",
       "1              27.0                3.0               3.0               7.0  \n",
       "\n",
       "[2 rows x 32 columns]"
      ]
     },
     "execution_count": 2,
     "metadata": {},
     "output_type": "execute_result"
    }
   ],
   "source": [
    "# Load the movies dataset\n",
    "movies_df = pd.read_csv('../00_Data/pre-processed/prepr_movies.csv',\n",
    "                        lineterminator='\\n',\n",
    "                        dtype={'movieId': object, 'tmdbId': object},\n",
    "                        converters={'production_countries': literal_eval,\n",
    "                                    'spoken_languages': literal_eval})\n",
    "\n",
    "movies_df = movies_df.drop('Unnamed: 0', axis=1)\n",
    "movies_df['year'] = pd.to_datetime(movies_df['year'], format='%Y')\n",
    "movies_df['genres'] = movies_df['genres'].apply(lambda x: literal_eval(str(x)))\n",
    "movies_df.loc[pd.isnull(movies_df['director']), 'director'] = 'None'\n",
    "movies_df['director'] = movies_df['director'].apply(lambda x: literal_eval(str(x)))\n",
    "\n",
    "movies_df.loc[pd.isnull(movies_df['actors']), 'actors'] = 'None'\n",
    "movies_df['actors'] = movies_df['actors'].apply(lambda x: literal_eval(str(x)))\n",
    "movies_df.head(2)"
   ]
  },
  {
   "cell_type": "code",
   "execution_count": 3,
   "id": "9f721be9-f105-48f0-981a-2276fc623758",
   "metadata": {},
   "outputs": [
    {
     "data": {
      "text/html": [
       "<div>\n",
       "<style scoped>\n",
       "    .dataframe tbody tr th:only-of-type {\n",
       "        vertical-align: middle;\n",
       "    }\n",
       "\n",
       "    .dataframe tbody tr th {\n",
       "        vertical-align: top;\n",
       "    }\n",
       "\n",
       "    .dataframe thead th {\n",
       "        text-align: right;\n",
       "    }\n",
       "</style>\n",
       "<table border=\"1\" class=\"dataframe\">\n",
       "  <thead>\n",
       "    <tr style=\"text-align: right;\">\n",
       "      <th></th>\n",
       "      <th>userId</th>\n",
       "      <th>movieId</th>\n",
       "      <th>rating</th>\n",
       "      <th>timestamp</th>\n",
       "    </tr>\n",
       "  </thead>\n",
       "  <tbody>\n",
       "    <tr>\n",
       "      <th>0</th>\n",
       "      <td>1</td>\n",
       "      <td>296</td>\n",
       "      <td>5.0</td>\n",
       "      <td>2006-05-17 15:34:04</td>\n",
       "    </tr>\n",
       "    <tr>\n",
       "      <th>1</th>\n",
       "      <td>1</td>\n",
       "      <td>306</td>\n",
       "      <td>3.5</td>\n",
       "      <td>2006-05-17 12:26:57</td>\n",
       "    </tr>\n",
       "  </tbody>\n",
       "</table>\n",
       "</div>"
      ],
      "text/plain": [
       "  userId movieId  rating           timestamp\n",
       "0      1     296     5.0 2006-05-17 15:34:04\n",
       "1      1     306     3.5 2006-05-17 12:26:57"
      ]
     },
     "execution_count": 3,
     "metadata": {},
     "output_type": "execute_result"
    }
   ],
   "source": [
    "# Load the ratings dataset\n",
    "ratings_df = pd.read_csv('../00_Data/pre-processed/prepr_ratings.csv', dtype={'userId': object, 'movieId': object})\n",
    "ratings_df['timestamp'] = pd.to_datetime(ratings_df['timestamp'], unit='s', origin='unix')\n",
    "ratings_df = ratings_df.drop('Unnamed: 0', axis=1)\n",
    "ratings_df.head(2)"
   ]
  },
  {
   "cell_type": "code",
   "execution_count": 4,
   "id": "25bdde67-4a2f-4ac5-a128-558d82fe603b",
   "metadata": {},
   "outputs": [],
   "source": [
    "# Preprocess the datasets\n",
    "movies_df['year'] = pd.to_datetime(movies_df['year'], format='%Y')\n",
    "movies_df['genres'] = movies_df['genres'].apply(lambda x: literal_eval(str(x)))\n",
    "movies_df['director'] = movies_df['director'].fillna('None').apply(lambda x: literal_eval(str(x)))\n",
    "movies_df['actors'] = movies_df['actors'].fillna('None').apply(lambda x: literal_eval(str(x)))\n",
    "\n",
    "ratings_df['timestamp'] = pd.to_datetime(ratings_df['timestamp'], unit='s', origin='unix')"
   ]
  },
  {
   "cell_type": "code",
   "execution_count": 5,
   "id": "49c9a69a-e826-412a-abd6-09656a23efa8",
   "metadata": {},
   "outputs": [],
   "source": [
    "# Aggregate vote data and merge with movies dataframe\n",
    "vote_data = ratings_df.groupby('movieId').agg({'rating': ['mean', 'count']}).reset_index()\n",
    "vote_data.columns = ['movieId', 'vote_average', 'vote_count']\n",
    "movies_df = movies_df.merge(vote_data, on='movieId', how='left')\n",
    "movies_df['vote_average'] = movies_df['vote_average'].fillna(0)\n",
    "movies_df['vote_count'] = movies_df['vote_count'].fillna(0)"
   ]
  },
  {
   "cell_type": "markdown",
   "id": "c7bf3a0a-e482-41c9-8d9f-ff795b2a61f7",
   "metadata": {},
   "source": [
    "**a. Generating the feature 'score'**"
   ]
  },
  {
   "cell_type": "code",
   "execution_count": 6,
   "id": "874232e6-eeae-4c33-9c1f-c9e31ab2894f",
   "metadata": {},
   "outputs": [],
   "source": [
    "# Calculate the weighted rating\n",
    "m = movies_df['vote_count'].quantile(0.9)\n",
    "C = movies_df['vote_average'].mean()\n",
    "\n",
    "def weighted_rating(x, m, C):\n",
    "    v = x[\"vote_count\"]\n",
    "    R = x[\"vote_average\"]\n",
    "    return (v / (v + m) * R) + (m / (m + v) * C)\n",
    "\n",
    "movies_df['score'] = movies_df.apply(lambda x: weighted_rating(x, m, C), axis=1)"
   ]
  },
  {
   "cell_type": "markdown",
   "id": "02c62564-e0c7-469a-b8d5-34ae6617a159",
   "metadata": {},
   "source": [
    "**b. Functions for further processing the data**"
   ]
  },
  {
   "cell_type": "code",
   "execution_count": 7,
   "id": "a9fde31d-71cb-4bed-87a1-708665514d9a",
   "metadata": {},
   "outputs": [],
   "source": [
    "def process_names(names):\n",
    "    return \" \".join([name.replace(\" \", \"\").lower() for name in names])\n",
    "\n",
    "def process_genres_and_languages(genres_and_languages):\n",
    "    if not isinstance(genres_and_languages, (list, tuple, set)):\n",
    "        genres_and_languages = [genres_and_languages]\n",
    "\n",
    "    cleaned_genres_and_languages = []\n",
    "    for g in genres_and_languages:\n",
    "        if not isinstance(g, float):\n",
    "            cleaned_g = re.sub(r'[^a-zA-Z\\s]', '', str(g))\n",
    "            cleaned_genres_and_languages.append(cleaned_g.lower())\n",
    "\n",
    "    return \" \".join(cleaned_genres_and_languages)"
   ]
  },
  {
   "cell_type": "markdown",
   "id": "83af37bd-b380-49fc-84d6-1fcbeb4ad95f",
   "metadata": {},
   "source": [
    "**c. Generating the feature 'combined_text'**"
   ]
  },
  {
   "cell_type": "code",
   "execution_count": 8,
   "id": "7767e25f-c97b-4f5a-b3b7-f09717f91f79",
   "metadata": {},
   "outputs": [],
   "source": [
    "# Create combined_text column\n",
    "movies_df['combined_text'] = (\n",
    "    movies_df['genres'].apply(process_genres_and_languages) + \" \" +\n",
    "    movies_df['tag'].apply(process_genres_and_languages) + \" \" +\n",
    "    movies_df['collection_name'].fillna(\"\").str.lower() + \" \" +\n",
    "    movies_df['description_root_wrds'] + \" \" +\n",
    "    movies_df['actors'].apply(process_names) + \" \" +\n",
    "    movies_df['director'].apply(process_names) + \" \" +\n",
    "    movies_df['original_language'] + \" \" +\n",
    "    movies_df['spoken_languages'].apply(process_genres_and_languages)\n",
    ")"
   ]
  },
  {
   "cell_type": "markdown",
   "id": "b8012ccf-68a8-427e-bb59-f3d5fa924559",
   "metadata": {},
   "source": [
    "**d. Perform sentiment analysis on the movie description**"
   ]
  },
  {
   "cell_type": "code",
   "execution_count": 9,
   "id": "15068aad-24ae-471b-9db7-7a5f35271fcc",
   "metadata": {},
   "outputs": [],
   "source": [
    "# Sentiment analysis on the movie descriptions\n",
    "def sentiment_analysis(text):\n",
    "    return TextBlob(text).sentiment.polarity\n",
    "\n",
    "movies_df['sentiment'] = movies_df['description'].apply(lambda x: sentiment_analysis(str(x)))"
   ]
  },
  {
   "cell_type": "markdown",
   "id": "d1131b1e-2726-4379-bfdc-035067bc9b79",
   "metadata": {},
   "source": [
    "**e. Generating the feature 'movie_age'**"
   ]
  },
  {
   "cell_type": "code",
   "execution_count": 10,
   "id": "f51dd41e-1470-4398-a519-6accf96d7e94",
   "metadata": {},
   "outputs": [],
   "source": [
    "# Create movie_age column\n",
    "current_year = datetime.datetime.now().year\n",
    "movies_df['movie_age'] = current_year - movies_df['year'].dt.year"
   ]
  },
  {
   "cell_type": "code",
   "execution_count": 11,
   "id": "ebd89104-f74e-4772-8451-5bc58262d317",
   "metadata": {},
   "outputs": [
    {
     "data": {
      "text/html": [
       "<div>\n",
       "<style scoped>\n",
       "    .dataframe tbody tr th:only-of-type {\n",
       "        vertical-align: middle;\n",
       "    }\n",
       "\n",
       "    .dataframe tbody tr th {\n",
       "        vertical-align: top;\n",
       "    }\n",
       "\n",
       "    .dataframe thead th {\n",
       "        text-align: right;\n",
       "    }\n",
       "</style>\n",
       "<table border=\"1\" class=\"dataframe\">\n",
       "  <thead>\n",
       "    <tr style=\"text-align: right;\">\n",
       "      <th></th>\n",
       "      <th>movieId</th>\n",
       "      <th>title</th>\n",
       "      <th>movie_age</th>\n",
       "      <th>genres</th>\n",
       "      <th>combined_text</th>\n",
       "      <th>vote_average</th>\n",
       "      <th>vote_count</th>\n",
       "      <th>score</th>\n",
       "      <th>sentiment</th>\n",
       "    </tr>\n",
       "  </thead>\n",
       "  <tbody>\n",
       "    <tr>\n",
       "      <th>0</th>\n",
       "      <td>1</td>\n",
       "      <td>Toy Story (1995)</td>\n",
       "      <td>28</td>\n",
       "      <td>[Adventure, Animation, Children, Comedy, Fantasy]</td>\n",
       "      <td>adventure animation children comedy fantasy re...</td>\n",
       "      <td>3.893708</td>\n",
       "      <td>57309.0</td>\n",
       "      <td>3.883305</td>\n",
       "      <td>0.112121</td>\n",
       "    </tr>\n",
       "    <tr>\n",
       "      <th>1</th>\n",
       "      <td>2</td>\n",
       "      <td>Jumanji (1995)</td>\n",
       "      <td>28</td>\n",
       "      <td>[Adventure, Children, Fantasy]</td>\n",
       "      <td>adventure children fantasy adaptationofbook ad...</td>\n",
       "      <td>3.251527</td>\n",
       "      <td>24228.0</td>\n",
       "      <td>3.242912</td>\n",
       "      <td>-0.218750</td>\n",
       "    </tr>\n",
       "  </tbody>\n",
       "</table>\n",
       "</div>"
      ],
      "text/plain": [
       "  movieId             title  movie_age  \\\n",
       "0       1  Toy Story (1995)         28   \n",
       "1       2    Jumanji (1995)         28   \n",
       "\n",
       "                                              genres  \\\n",
       "0  [Adventure, Animation, Children, Comedy, Fantasy]   \n",
       "1                     [Adventure, Children, Fantasy]   \n",
       "\n",
       "                                       combined_text  vote_average  \\\n",
       "0  adventure animation children comedy fantasy re...      3.893708   \n",
       "1  adventure children fantasy adaptationofbook ad...      3.251527   \n",
       "\n",
       "   vote_count     score  sentiment  \n",
       "0     57309.0  3.883305   0.112121  \n",
       "1     24228.0  3.242912  -0.218750  "
      ]
     },
     "execution_count": 11,
     "metadata": {},
     "output_type": "execute_result"
    }
   ],
   "source": [
    "# Keep only relevant columns\n",
    "movies_df = movies_df[['movieId', 'title', 'movie_age', 'genres', 'combined_text', 'vote_average', 'vote_count', 'score', 'sentiment']]\n",
    "movies_df.head(2)"
   ]
  },
  {
   "cell_type": "code",
   "execution_count": 13,
   "id": "abc65e5c-4feb-478a-ba01-307a5b5ecdfa",
   "metadata": {},
   "outputs": [],
   "source": [
    "# Save the processed dataset\n",
    "movies_df.to_csv('../00_Data/engineered/movies_df_engineered.csv', index=False)"
   ]
  }
 ],
 "metadata": {
  "kernelspec": {
   "display_name": "Python 3 (ipykernel)",
   "language": "python",
   "name": "python3"
  },
  "language_info": {
   "codemirror_mode": {
    "name": "ipython",
    "version": 3
   },
   "file_extension": ".py",
   "mimetype": "text/x-python",
   "name": "python",
   "nbconvert_exporter": "python",
   "pygments_lexer": "ipython3",
   "version": "3.9.13"
  }
 },
 "nbformat": 4,
 "nbformat_minor": 5
}
