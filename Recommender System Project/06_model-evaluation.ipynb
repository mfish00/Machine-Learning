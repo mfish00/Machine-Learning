{
 "cells": [
  {
   "cell_type": "markdown",
   "id": "54d35199-48bb-4b97-b2b6-fb689fd93b79",
   "metadata": {},
   "source": [
    "# Group Project: Movie Recommendations (2487-T2 Machine Learning) [Group 2]\n",
    "- Nova School of Business and Economics, Portugal\n",
    "- Instructor: Qiwei Han, Ph.D.\n",
    "- Program: Masters Program in Business Analytics\n",
    "- Group Members: \n",
    "    - **Luca Silvano Carocci (53942)**\n",
    "    - **Fridtjov Höyerholt Stokkeland (52922)**\n",
    "    - **Diego García Rieckhof (53046)**\n",
    "    - **Matilde Pesce (53258)**\n",
    "    - **Florian Fritz Preiss (54385)**<br>\n",
    "---\n",
    "\n",
    "# Phase 5: Evaluation [06 Model Evaluation]\n",
    "\n",
    "## 5.1 Evaluation of Content-Based Recommender Systems\n",
    "\n",
    "In this phase, we will evaluate the performance of various content-based recommender models. Our focus will be on comparing four different approaches: TF-IDF Vectorizer, Count Vectorizer, Optimized Count Vectorizer, Word2Vec, Optimized Word2Vec, Doc2Vec, Optimized Doc2Vec. The evaluation process is a vital step in the machine learning pipeline, as it offers insights into the models' accuracy, relevance, and efficiency, while highlighting areas that may require further optimization. To provide a comprehensive assessment, we will employ a set of established evaluation metrics, including Mean Absolute Error (MAE), Mean Squared Error (MSE), Root Mean Squared Error (RMSE), and Precision.\n",
    "\n",
    "**Code Explanation:**\n",
    "\n",
    "To evaluate our content-based recommender models, we will first identify users who have rated movies with a 4.0 rating. This information will help us gauge whether our models can recommend movies that align with these users' preferences. We will iterate through each movie in the dataset and generate recommendations using each of the nine content recommender models. For each movie, we will then gather the actual ratings given by users who received the recommendation and compare these ratings with the ideal rating (5.0) to compute the evaluation metrics.\n",
    "\n",
    "This evaluation process will enable us to compare the performance of the different content-based recommender models and identify the most effective approach for generating accurate and relevant recommendations. By exploring various models and their optimizations, we aim to provide a comprehensive understanding of the underlying techniques and their effectiveness in the context of movie recommendation systems.\n",
    "\n",
    "**Rationale for choosing the rating higher or equal to 4.0 as a like for a movie:**\n",
    "\n",
    "In our evaluation process, we have chosen to consider a rating of 4.0 or higher as an indication of the user's liking for a movie. This decision is based on a rationale that takes into account user behavior, the nature of rating scales, and previous research in the field of recommender systems.\n",
    "\n",
    "Firstly, users tend to exhibit a positivity bias when rating items, which means that they are more likely to rate items they like rather than dislike (Hu, Zhang, & Pavlou, 2009). This phenomenon leads to a skewed distribution of ratings, with a higher concentration of positive ratings. By setting the threshold at 4.0 or higher, we account for this bias and focus on movies that users have genuinely appreciated.\n",
    "\n",
    "Secondly, a 5-point rating scale, with 0.5-step increments, provides users with ten options to express their opinion about a movie. A rating of 4.0 or higher corresponds to the top 20% of the available options, indicating that the user has a strong positive preference for the movie. This threshold is commonly used in research and practice as a proxy for users' \"likes\" or \"favorites\" (Bobadilla, Ortega, Hernando, & Gutiérrez, 2013).\n",
    "\n",
    "Moreover, previous research in recommender systems has demonstrated that using a threshold of 4.0 or higher for identifying liked items can lead to better performance and more accurate recommendations (Cremonesi, Koren, & Turrin, 2010). In particular, focusing on highly-rated items helps the algorithms identify strong patterns of user preferences, which can contribute to generating more relevant recommendations.\n",
    "\n",
    "In conclusion, setting the threshold for a \"like\" at 4.0 or higher is a well-justified decision that considers user behavior, the nature of the rating scale, and existing research in the field of recommender systems. By focusing on highly-rated items, we aim to create a robust evaluation framework that can effectively measure the performance of our content-based recommender models.\n",
    "\n",
    "**Rationale for using a random sample of movies to evaluate the recommendation models:**\n",
    "\n",
    "We decided to use a random sample of movies to evaluate our recommendation models, as this is a much more practical and effective approach, especially with the large movie database of 50,000 movies we work with. Evaluating the models for the entire dataset would be very computationally intensive and time consuming. By selecting a representative sample, we can significantly reduce the evaluation time while maintaining the validity of the evaluation results.\n",
    "\n",
    "\n",
    "Rationale for using a random sample:\n",
    "\n",
    "- Computational Efficiency: Evaluating models on the entire dataset is computationally expensive, especially when dealing with large datasets. Using a random sample reduces the computational cost, allowing for quicker evaluation and optimization of the models.\n",
    "\n",
    "- Representative Results: If the random sample is chosen correctly, it should provide a good approximation of the overall dataset, maintaining the distribution of features and ratings. This ensures that the evaluation results are representative of the models' performance on the entire dataset.\n",
    "\n",
    "- Flexibility: Using a random sample allows for flexibility in choosing the sample size based on the available computational resources and the desired level of confidence in the evaluation results.\n",
    "\n",
    "- Widely Accepted Practice: Sampling is a widely accepted practice in statistics and machine learning, as it allows researchers to draw inferences about the population without having to analyze the entire dataset (Cochran, 1977).\n",
    "\n",
    "Consequently, we use the following formula in order to calculate the required sample size:\n",
    "\n",
    "n = (Z^2 * p * (1-p)) / E^2\n",
    "\n",
    "Where:\n",
    "\n",
    "- n is the sample size\n",
    "- Z is the Z-score (based on the desired confidence level, e.g., 1.96 for a 95% confidence level)\n",
    "- p is the estimated proportion of movies with a rating of 4.0 or higher\n",
    "- E is the desired margin of error\n"
   ]
  },
  {
   "cell_type": "code",
   "execution_count": 30,
   "id": "d8aeacd6-3fd8-42ed-8093-2e88492b4572",
   "metadata": {},
   "outputs": [],
   "source": [
    "# Standard libraries\n",
    "import ast\n",
    "import joblib\n",
    "import math\n",
    "import pickle\n",
    "import random\n",
    "import time\n",
    "import warnings\n",
    "\n",
    "# Third-party libraries\n",
    "from collections import defaultdict\n",
    "import numpy as np\n",
    "import pandas as pd\n",
    "from joblib import Parallel, delayed\n",
    "import scipy.stats\n",
    "from scipy.sparse import csr_matrix\n",
    "from sklearn.feature_extraction.text import TfidfVectorizer\n",
    "from sklearn.metrics.pairwise import cosine_similarity\n",
    "from sklearn.neighbors import NearestNeighbors\n",
    "from sklearn.preprocessing import MinMaxScaler\n",
    "from sentence_transformers import SentenceTransformer\n",
    "from surprise import Dataset, Reader, SVD, accuracy\n",
    "from surprise.model_selection import train_test_split\n",
    "from transformers import AutoModelForMaskedLM, AutoTokenizer\n",
    "\n",
    "# Custom recommender module\n",
    "from recommender import (ContentRecommenderTFIDFOptimized, ContentRecommenderCountVec,\n",
    "                         ContentRecommenderCountVecOptimized, ContentRecommenderW2V,\n",
    "                         ContentRecommenderW2VOptimized, ContentRecommenderD2V,\n",
    "                         ContentRecommenderD2VOptimized, ContentRecommenderDistilRoBERTa)\n",
    "\n",
    "# Suppress warnings\n",
    "warnings.filterwarnings(\"ignore\")"
   ]
  },
  {
   "cell_type": "code",
   "execution_count": 2,
   "id": "0481d992-39b1-42ad-bca9-c8b01792c6ae",
   "metadata": {},
   "outputs": [
    {
     "data": {
      "text/html": [
       "<div>\n",
       "<style scoped>\n",
       "    .dataframe tbody tr th:only-of-type {\n",
       "        vertical-align: middle;\n",
       "    }\n",
       "\n",
       "    .dataframe tbody tr th {\n",
       "        vertical-align: top;\n",
       "    }\n",
       "\n",
       "    .dataframe thead th {\n",
       "        text-align: right;\n",
       "    }\n",
       "</style>\n",
       "<table border=\"1\" class=\"dataframe\">\n",
       "  <thead>\n",
       "    <tr style=\"text-align: right;\">\n",
       "      <th></th>\n",
       "      <th>movieId</th>\n",
       "      <th>title</th>\n",
       "      <th>movie_age</th>\n",
       "      <th>genres</th>\n",
       "      <th>combined_text</th>\n",
       "      <th>vote_average</th>\n",
       "      <th>vote_count</th>\n",
       "      <th>score</th>\n",
       "      <th>sentiment</th>\n",
       "    </tr>\n",
       "  </thead>\n",
       "  <tbody>\n",
       "    <tr>\n",
       "      <th>0</th>\n",
       "      <td>1</td>\n",
       "      <td>Toy Story (1995)</td>\n",
       "      <td>28</td>\n",
       "      <td>['Adventure', 'Animation', 'Children', 'Comedy...</td>\n",
       "      <td>adventure animation children comedy fantasy re...</td>\n",
       "      <td>3.893708</td>\n",
       "      <td>57309.0</td>\n",
       "      <td>3.883305</td>\n",
       "      <td>0.112121</td>\n",
       "    </tr>\n",
       "    <tr>\n",
       "      <th>1</th>\n",
       "      <td>2</td>\n",
       "      <td>Jumanji (1995)</td>\n",
       "      <td>28</td>\n",
       "      <td>['Adventure', 'Children', 'Fantasy']</td>\n",
       "      <td>adventure children fantasy adaptationofbook ad...</td>\n",
       "      <td>3.251527</td>\n",
       "      <td>24228.0</td>\n",
       "      <td>3.242912</td>\n",
       "      <td>-0.218750</td>\n",
       "    </tr>\n",
       "  </tbody>\n",
       "</table>\n",
       "</div>"
      ],
      "text/plain": [
       "   movieId             title  movie_age  \\\n",
       "0        1  Toy Story (1995)         28   \n",
       "1        2    Jumanji (1995)         28   \n",
       "\n",
       "                                              genres  \\\n",
       "0  ['Adventure', 'Animation', 'Children', 'Comedy...   \n",
       "1               ['Adventure', 'Children', 'Fantasy']   \n",
       "\n",
       "                                       combined_text  vote_average  \\\n",
       "0  adventure animation children comedy fantasy re...      3.893708   \n",
       "1  adventure children fantasy adaptationofbook ad...      3.251527   \n",
       "\n",
       "   vote_count     score  sentiment  \n",
       "0     57309.0  3.883305   0.112121  \n",
       "1     24228.0  3.242912  -0.218750  "
      ]
     },
     "execution_count": 2,
     "metadata": {},
     "output_type": "execute_result"
    }
   ],
   "source": [
    "# Load the movies dataset\n",
    "movies_df = pd.read_csv('../00_Data/engineered/movies_df_engineered.csv', dtype={'movieId': int})\n",
    "movies_df.head(2)"
   ]
  },
  {
   "cell_type": "code",
   "execution_count": 3,
   "id": "0f23d26c-bfce-4042-93a5-7f71d5c7a5ce",
   "metadata": {},
   "outputs": [
    {
     "data": {
      "text/html": [
       "<div>\n",
       "<style scoped>\n",
       "    .dataframe tbody tr th:only-of-type {\n",
       "        vertical-align: middle;\n",
       "    }\n",
       "\n",
       "    .dataframe tbody tr th {\n",
       "        vertical-align: top;\n",
       "    }\n",
       "\n",
       "    .dataframe thead th {\n",
       "        text-align: right;\n",
       "    }\n",
       "</style>\n",
       "<table border=\"1\" class=\"dataframe\">\n",
       "  <thead>\n",
       "    <tr style=\"text-align: right;\">\n",
       "      <th></th>\n",
       "      <th>userId</th>\n",
       "      <th>movieId</th>\n",
       "      <th>rating</th>\n",
       "    </tr>\n",
       "  </thead>\n",
       "  <tbody>\n",
       "    <tr>\n",
       "      <th>0</th>\n",
       "      <td>1</td>\n",
       "      <td>296</td>\n",
       "      <td>5.0</td>\n",
       "    </tr>\n",
       "    <tr>\n",
       "      <th>1</th>\n",
       "      <td>1</td>\n",
       "      <td>306</td>\n",
       "      <td>3.5</td>\n",
       "    </tr>\n",
       "  </tbody>\n",
       "</table>\n",
       "</div>"
      ],
      "text/plain": [
       "   userId  movieId  rating\n",
       "0       1      296     5.0\n",
       "1       1      306     3.5"
      ]
     },
     "execution_count": 3,
     "metadata": {},
     "output_type": "execute_result"
    }
   ],
   "source": [
    "# Import ratings table\n",
    "ratings_df = pd.read_csv('../00_Data/pre-processed/prepr_ratings.csv', dtype={'movieId': int})\n",
    "ratings_df.drop(['Unnamed: 0', 'timestamp'], axis=1, inplace=True)\n",
    "ratings_df.head(2)"
   ]
  },
  {
   "cell_type": "code",
   "execution_count": 4,
   "id": "1ac76c28-9dd3-4c5e-befa-358c78d257ae",
   "metadata": {},
   "outputs": [],
   "source": [
    "def evaluate_movie(movie_id, ratings_df, users_rated_high, recommender):\n",
    "    \"\"\"Evaluates a single movie for a recommender system.\n",
    "\n",
    "    Args:\n",
    "        movie_id (int): The ID of the movie to evaluate.\n",
    "        ratings_df (DataFrame): DataFrame containing movie ratings.\n",
    "        users_rated_high (Series): Users who rated a movie 4.0 or higher.\n",
    "        recommender (object): The recommender model to use.\n",
    "\n",
    "    Returns:\n",
    "        ratings_array (np.array): Ratings array for a single movie.\n",
    "    \"\"\"\n",
    "    recommendations = recommender.recommend(movie_id, top_n=10)\n",
    "    recommended_ids = recommendations.index.tolist()\n",
    "\n",
    "    ratings = ratings_df[(ratings_df['userId'].isin(users_rated_high)) &\n",
    "                         (ratings_df['movieId'].isin(recommended_ids))]\n",
    "\n",
    "    ratings_array = np.array(ratings['rating'])\n",
    "    return ratings_array"
   ]
  },
  {
   "cell_type": "code",
   "execution_count": 5,
   "id": "f7a02aa1-9c04-4c09-9ab0-14e0599f7487",
   "metadata": {},
   "outputs": [],
   "source": [
    "def evaluate_recommender(ratings_df, users_rated_high, recommender, random_movie_ids):\n",
    "    \"\"\"Evaluates a recommender system using a random sample of movie IDs.\n",
    "\n",
    "    Args:\n",
    "        ratings_df (DataFrame): DataFrame containing movie ratings.\n",
    "        users_rated_high (Series): Users who rated a movie 4.0 or higher.\n",
    "        recommender (object): The recommender model to use.\n",
    "        random_movie_ids (list): Randomly selected movie IDs.\n",
    "\n",
    "    Returns:\n",
    "        all_actual_ratings (np.array): Array of actual ratings for all movies.\n",
    "    \"\"\"\n",
    "    all_actual_ratings = np.array([])\n",
    "\n",
    "    start_time = time.time()\n",
    "\n",
    "    num_cores = -1\n",
    "\n",
    "    all_actual_ratings = Parallel(n_jobs=num_cores)(\n",
    "        delayed(evaluate_movie)(movie_id, ratings_df, users_rated_high, recommender)\n",
    "        for movie_id in random_movie_ids\n",
    "    )\n",
    "\n",
    "    all_actual_ratings = np.concatenate(all_actual_ratings)\n",
    "\n",
    "    elapsed_time = time.time() - start_time\n",
    "\n",
    "    print(f\"Time taken for evaluation: {elapsed_time} seconds\\n\")\n",
    "\n",
    "    return all_actual_ratings"
   ]
  },
  {
   "cell_type": "code",
   "execution_count": 6,
   "id": "90ba2a86-fe50-44d4-8b8e-a8c13493aa81",
   "metadata": {},
   "outputs": [],
   "source": [
    "def evaluate_and_print_metrics(recommender, recommender_name, ratings_df, users_rated_high, random_movie_ids):\n",
    "    \"\"\"Evaluates and prints metrics for a recommender system.\n",
    "\n",
    "    Args:\n",
    "        recommender (object): The recommender model to use.\n",
    "        recommender_name (str): Name of the recommender model.\n",
    "        ratings_df (DataFrame): DataFrame containing movie ratings.\n",
    "        users_rated_high (Series): Users who rated a movie 4.0 or higher.\n",
    "        random_movie_ids (list): Randomly selected movie IDs.\n",
    "\n",
    "    Returns:\n",
    "        metrics (dict): Metrics for the recommender model.\n",
    "    \"\"\"\n",
    "\n",
    "    all_actual_ratings = evaluate_recommender(ratings_df, users_rated_high, recommender, random_movie_ids)\n",
    "\n",
    "    mae = np.mean(np.abs(all_actual_ratings - 5))\n",
    "    mse = np.mean((all_actual_ratings - 5) ** 2)\n",
    "    rmse = np.sqrt(mse)\n",
    "    like_threshold = 4.5\n",
    "    recommended_movie_liked = np.where(all_actual_ratings >= like_threshold, 1, 0)\n",
    "    pred_pos = len(recommended_movie_liked)\n",
    "    true_pos = np.sum(recommended_movie_liked)\n",
    "    precision = true_pos / pred_pos\n",
    "\n",
    "    metrics = {\n",
    "        'Predicted Likes': pred_pos,\n",
    "        'Actual Likes': true_pos,\n",
    "        'MAE': mae,\n",
    "        'MSE': mse,\n",
    "        'RMSE': rmse,\n",
    "        'Precision': precision\n",
    "    }\n",
    "\n",
    "    print(f\"Metrics for {recommender_name}:\")\n",
    "    print(f\"- MAE: {mae:.4f}\")\n",
    "    print(f\"- MSE: {mse:.4f}\")\n",
    "    print(f\"- RMSE: {rmse:.4f}\")\n",
    "    print(f\"- Precision: {precision:.4f}\\n\")\n",
    "\n",
    "    return metrics"
   ]
  },
  {
   "cell_type": "code",
   "execution_count": 7,
   "id": "92e5e5ae-bb9b-41cd-9f0f-a270929902a1",
   "metadata": {},
   "outputs": [],
   "source": [
    "def calculate_sample_size(confidence_level, margin_of_error, proportion):\n",
    "    \"\"\"\n",
    "    Calculate the required sample size based on the desired confidence level,\n",
    "    margin of error, and estimated proportion of the population with the\n",
    "    desired characteristic.\n",
    "    \n",
    "    Args:\n",
    "        confidence_level (float): The desired confidence level (e.g., 0.95 for 95%).\n",
    "        margin_of_error (float): The desired margin of error (e.g., 0.05 for ±5%).\n",
    "        proportion (float): The estimated proportion of the population with the\n",
    "                            desired characteristic (e.g., the proportion of movies\n",
    "                            with a rating of 4.0 or higher).\n",
    "                            \n",
    "    Returns:\n",
    "        sample_size (int): The required sample size.\n",
    "    \"\"\"\n",
    "    # Calculate the Z-score based on the confidence level\n",
    "    z_score = abs(scipy.stats.norm.ppf((1 - confidence_level) / 2))\n",
    "    \n",
    "    # Calculate the required sample size\n",
    "    sample_size = math.ceil((z_score ** 2 * proportion * (1 - proportion)) / (margin_of_error ** 2))\n",
    "    \n",
    "    return sample_size"
   ]
  },
  {
   "cell_type": "code",
   "execution_count": 8,
   "id": "b80fe44f-abd0-4e69-8cc1-d1ca7e9ce9a0",
   "metadata": {},
   "outputs": [
    {
     "name": "stdout",
     "output_type": "stream",
     "text": [
      "Proportion of movies with a rating of 4.0 or higher: 0.4983\n"
     ]
    }
   ],
   "source": [
    "# Set the desired rating threshold\n",
    "rating_threshold = 4.0\n",
    "\n",
    "# Calculate the proportion of movies with a rating equal to or higher than the threshold\n",
    "ratings_higher_than_threshold = ratings_df[ratings_df['rating'] >= rating_threshold]\n",
    "proportion = len(ratings_higher_than_threshold) / len(ratings_df)\n",
    "\n",
    "print(f\"Proportion of movies with a rating of {rating_threshold} or higher: {proportion:.4f}\")"
   ]
  },
  {
   "cell_type": "code",
   "execution_count": 9,
   "id": "0ec813c2-4764-46c5-aee1-9bd3eac9f15e",
   "metadata": {},
   "outputs": [
    {
     "name": "stdout",
     "output_type": "stream",
     "text": [
      "Required sample size: 385\n"
     ]
    }
   ],
   "source": [
    "# Calculate the required sample size\n",
    "confidence_level = 0.95\n",
    "margin_of_error = 0.05\n",
    "proportion = proportion \n",
    "\n",
    "required_sample_size = calculate_sample_size(confidence_level, margin_of_error, proportion)\n",
    "print(f\"Required sample size: {required_sample_size}\")"
   ]
  },
  {
   "cell_type": "code",
   "execution_count": 10,
   "id": "3954db5c-131c-4714-96fe-447661a86e0f",
   "metadata": {},
   "outputs": [],
   "source": [
    "# All ratings of 4.0 or higher\n",
    "users_rated_high = ratings_df[ratings_df['rating'] >= rating_threshold]['userId']\n",
    "\n",
    "# Get all movie IDs\n",
    "movie_ids = movies_df['movieId'].tolist()\n",
    "\n",
    "# Randomly select 385 movie IDs (according to calculated sample size)\n",
    "random_movie_ids = random.sample(movie_ids, required_sample_size)"
   ]
  },
  {
   "cell_type": "code",
   "execution_count": 11,
   "id": "0b30777d-3498-4f1b-b6c8-46eb811c8273",
   "metadata": {},
   "outputs": [],
   "source": [
    "# Evaluate the models and store the metrics in a list of dictionaries\n",
    "metrics = []"
   ]
  },
  {
   "cell_type": "markdown",
   "id": "d280f8a1-3ea8-4008-8de1-e85abd807ce7",
   "metadata": {
    "tags": []
   },
   "source": [
    "### **5.1.1 TF-IDF Vectorizer**"
   ]
  },
  {
   "cell_type": "code",
   "execution_count": 12,
   "id": "5aaf91a1-0ee4-46f1-b2c6-61f62def5af3",
   "metadata": {},
   "outputs": [],
   "source": [
    "# Load the saved model\n",
    "with open('../02_Models/content_recommender_tfidf.pkl', 'rb') as file:\n",
    "    recommenderTFIDF = pickle.load(file)"
   ]
  },
  {
   "cell_type": "code",
   "execution_count": 13,
   "id": "9ddda890-fdee-469f-a867-8a15bc9c5d7d",
   "metadata": {},
   "outputs": [
    {
     "name": "stdout",
     "output_type": "stream",
     "text": [
      "Time taken for evaluation: 150.19900488853455 seconds\n",
      "\n",
      "Metrics for TF-IDF Vectorizer:\n",
      "- MAE: 1.4247\n",
      "- MSE: 3.1621\n",
      "- RMSE: 1.7782\n",
      "- Precision: 0.2478\n",
      "\n"
     ]
    },
    {
     "data": {
      "text/html": [
       "<div>\n",
       "<style scoped>\n",
       "    .dataframe tbody tr th:only-of-type {\n",
       "        vertical-align: middle;\n",
       "    }\n",
       "\n",
       "    .dataframe tbody tr th {\n",
       "        vertical-align: top;\n",
       "    }\n",
       "\n",
       "    .dataframe thead th {\n",
       "        text-align: right;\n",
       "    }\n",
       "</style>\n",
       "<table border=\"1\" class=\"dataframe\">\n",
       "  <thead>\n",
       "    <tr style=\"text-align: right;\">\n",
       "      <th></th>\n",
       "      <th>Predicted Likes</th>\n",
       "      <th>Actual Likes</th>\n",
       "      <th>MAE</th>\n",
       "      <th>MSE</th>\n",
       "      <th>RMSE</th>\n",
       "      <th>Precision</th>\n",
       "    </tr>\n",
       "  </thead>\n",
       "  <tbody>\n",
       "    <tr>\n",
       "      <th>0</th>\n",
       "      <td>3441873</td>\n",
       "      <td>852930</td>\n",
       "      <td>1.424663</td>\n",
       "      <td>3.162091</td>\n",
       "      <td>1.778227</td>\n",
       "      <td>0.24781</td>\n",
       "    </tr>\n",
       "  </tbody>\n",
       "</table>\n",
       "</div>"
      ],
      "text/plain": [
       "   Predicted Likes  Actual Likes       MAE       MSE      RMSE  Precision\n",
       "0          3441873        852930  1.424663  3.162091  1.778227    0.24781"
      ]
     },
     "execution_count": 13,
     "metadata": {},
     "output_type": "execute_result"
    }
   ],
   "source": [
    "# Evaluate the TF-IDF model\n",
    "metrics_tfidf = evaluate_and_print_metrics(recommenderTFIDF, \"TF-IDF Vectorizer\", ratings_df, users_rated_high, random_movie_ids)\n",
    "metrics.append({'model': 'TF-IDF Vectorizer', 'mae': metrics_tfidf['MAE'], 'mse': metrics_tfidf['MSE'], 'rmse': metrics_tfidf['RMSE'], 'precision': metrics_tfidf['Precision']})\n",
    "\n",
    "# Display the results as a DataFrame\n",
    "pd.DataFrame(metrics_tfidf, index=[0])"
   ]
  },
  {
   "cell_type": "markdown",
   "id": "1a4c0e46-152a-4278-9fb1-d6824db1d811",
   "metadata": {},
   "source": [
    "### **5.1.2 Count Vectorizer**"
   ]
  },
  {
   "cell_type": "markdown",
   "id": "ea0a5aba-b2ac-4a35-aefb-7ee736cf0f7b",
   "metadata": {},
   "source": [
    "**a. Regular Model**"
   ]
  },
  {
   "cell_type": "code",
   "execution_count": 14,
   "id": "603f44f4-7351-482f-a63d-4012302f9ae7",
   "metadata": {},
   "outputs": [],
   "source": [
    "# Load the saved model\n",
    "with open('../02_Models/content_recommender_countvec.pkl', 'rb') as file:\n",
    "    recommenderCountVec = pickle.load(file)"
   ]
  },
  {
   "cell_type": "code",
   "execution_count": 15,
   "id": "5c4d0bfd-8897-4933-8aa7-6a5d8411eeea",
   "metadata": {},
   "outputs": [
    {
     "name": "stdout",
     "output_type": "stream",
     "text": [
      "Time taken for evaluation: 460.995080947876 seconds\n",
      "\n",
      "Metrics for Count Vectorizer:\n",
      "- MAE: 1.4983\n",
      "- MSE: 3.4003\n",
      "- RMSE: 1.8440\n",
      "- Precision: 0.2211\n",
      "\n"
     ]
    },
    {
     "data": {
      "text/html": [
       "<div>\n",
       "<style scoped>\n",
       "    .dataframe tbody tr th:only-of-type {\n",
       "        vertical-align: middle;\n",
       "    }\n",
       "\n",
       "    .dataframe tbody tr th {\n",
       "        vertical-align: top;\n",
       "    }\n",
       "\n",
       "    .dataframe thead th {\n",
       "        text-align: right;\n",
       "    }\n",
       "</style>\n",
       "<table border=\"1\" class=\"dataframe\">\n",
       "  <thead>\n",
       "    <tr style=\"text-align: right;\">\n",
       "      <th></th>\n",
       "      <th>Predicted Likes</th>\n",
       "      <th>Actual Likes</th>\n",
       "      <th>MAE</th>\n",
       "      <th>MSE</th>\n",
       "      <th>RMSE</th>\n",
       "      <th>Precision</th>\n",
       "    </tr>\n",
       "  </thead>\n",
       "  <tbody>\n",
       "    <tr>\n",
       "      <th>0</th>\n",
       "      <td>3057786</td>\n",
       "      <td>676028</td>\n",
       "      <td>1.498283</td>\n",
       "      <td>3.400338</td>\n",
       "      <td>1.844</td>\n",
       "      <td>0.221084</td>\n",
       "    </tr>\n",
       "  </tbody>\n",
       "</table>\n",
       "</div>"
      ],
      "text/plain": [
       "   Predicted Likes  Actual Likes       MAE       MSE   RMSE  Precision\n",
       "0          3057786        676028  1.498283  3.400338  1.844   0.221084"
      ]
     },
     "execution_count": 15,
     "metadata": {},
     "output_type": "execute_result"
    }
   ],
   "source": [
    "# Evaluate the Count Vectorizer model\n",
    "metrics_countvec = evaluate_and_print_metrics(recommenderCountVec, \"Count Vectorizer\", ratings_df, users_rated_high, random_movie_ids)\n",
    "metrics.append({'model': 'Count Vectorizer', 'mae': metrics_countvec['MAE'], 'mse': metrics_countvec['MSE'], 'rmse': metrics_countvec['RMSE'], 'precision': metrics_countvec['Precision']})\n",
    "\n",
    "# Display the results as a DataFrame\n",
    "pd.DataFrame(metrics_countvec, index=[0])"
   ]
  },
  {
   "cell_type": "markdown",
   "id": "58de8a13-d746-4b2b-a5ff-164bcb8b53c8",
   "metadata": {},
   "source": [
    "**b. Optimized Model**"
   ]
  },
  {
   "cell_type": "code",
   "execution_count": 16,
   "id": "f27e22f0-bc69-48f5-a92b-ede27d61cc2f",
   "metadata": {},
   "outputs": [],
   "source": [
    "# Load the saved model\n",
    "with open('../02_Models/content_recommender_countvec_opt.pkl', 'rb') as file:\n",
    "    recommenderCountVecOptimized = pickle.load(file)"
   ]
  },
  {
   "cell_type": "code",
   "execution_count": 17,
   "id": "91112a9c-ee8e-411b-84d5-17e00fd9c864",
   "metadata": {},
   "outputs": [
    {
     "name": "stdout",
     "output_type": "stream",
     "text": [
      "Time taken for evaluation: 123.34686255455017 seconds\n",
      "\n",
      "Metrics for Count Vectorizer (Optimized):\n",
      "- MAE: 1.7996\n",
      "- MSE: 4.1810\n",
      "- RMSE: 2.0447\n",
      "- Precision: 0.0825\n",
      "\n"
     ]
    },
    {
     "data": {
      "text/html": [
       "<div>\n",
       "<style scoped>\n",
       "    .dataframe tbody tr th:only-of-type {\n",
       "        vertical-align: middle;\n",
       "    }\n",
       "\n",
       "    .dataframe tbody tr th {\n",
       "        vertical-align: top;\n",
       "    }\n",
       "\n",
       "    .dataframe thead th {\n",
       "        text-align: right;\n",
       "    }\n",
       "</style>\n",
       "<table border=\"1\" class=\"dataframe\">\n",
       "  <thead>\n",
       "    <tr style=\"text-align: right;\">\n",
       "      <th></th>\n",
       "      <th>Predicted Likes</th>\n",
       "      <th>Actual Likes</th>\n",
       "      <th>MAE</th>\n",
       "      <th>MSE</th>\n",
       "      <th>RMSE</th>\n",
       "      <th>Precision</th>\n",
       "    </tr>\n",
       "  </thead>\n",
       "  <tbody>\n",
       "    <tr>\n",
       "      <th>0</th>\n",
       "      <td>222345</td>\n",
       "      <td>18335</td>\n",
       "      <td>1.799564</td>\n",
       "      <td>4.180955</td>\n",
       "      <td>2.044738</td>\n",
       "      <td>0.082462</td>\n",
       "    </tr>\n",
       "  </tbody>\n",
       "</table>\n",
       "</div>"
      ],
      "text/plain": [
       "   Predicted Likes  Actual Likes       MAE       MSE      RMSE  Precision\n",
       "0           222345         18335  1.799564  4.180955  2.044738   0.082462"
      ]
     },
     "execution_count": 17,
     "metadata": {},
     "output_type": "execute_result"
    }
   ],
   "source": [
    "# Evaluate the Count Vectorizer model\n",
    "metrics_countvec_opt = evaluate_and_print_metrics(recommenderCountVecOptimized, \"Count Vectorizer (Optimized)\", ratings_df, users_rated_high, random_movie_ids)\n",
    "metrics.append({'model': 'Count Vectorizer (Optimized)', 'mae': metrics_countvec_opt['MAE'], 'mse': metrics_countvec_opt['MSE'], 'rmse': metrics_countvec_opt['RMSE'], 'precision': metrics_countvec_opt['Precision']})\n",
    "\n",
    "# Display the results as a DataFrame\n",
    "pd.DataFrame(metrics_countvec_opt, index=[0])"
   ]
  },
  {
   "cell_type": "markdown",
   "id": "a587c18a-095c-4e82-9b9e-ae9b9b4bffd7",
   "metadata": {},
   "source": [
    "### **5.1.3 Word2Vec**"
   ]
  },
  {
   "cell_type": "markdown",
   "id": "caabfa76-34bd-4912-91af-2e110220836c",
   "metadata": {},
   "source": [
    "**a. Regular Model**"
   ]
  },
  {
   "cell_type": "code",
   "execution_count": 18,
   "id": "da0ed1aa-c959-4ee5-b6a8-76e0dcf2934f",
   "metadata": {},
   "outputs": [],
   "source": [
    "# Load the saved model\n",
    "with open('../02_Models/content_recommender_w2v.pkl', 'rb') as file:\n",
    "    recommenderW2V = pickle.load(file)"
   ]
  },
  {
   "cell_type": "code",
   "execution_count": 19,
   "id": "a322c651-0ce2-4e6b-a695-da762e5daf6c",
   "metadata": {},
   "outputs": [
    {
     "name": "stdout",
     "output_type": "stream",
     "text": [
      "Time taken for evaluation: 749.6605615615845 seconds\n",
      "\n",
      "Metrics for Word2Vec:\n",
      "- MAE: 1.4717\n",
      "- MSE: 3.3029\n",
      "- RMSE: 1.8174\n",
      "- Precision: 0.2275\n",
      "\n"
     ]
    },
    {
     "data": {
      "text/html": [
       "<div>\n",
       "<style scoped>\n",
       "    .dataframe tbody tr th:only-of-type {\n",
       "        vertical-align: middle;\n",
       "    }\n",
       "\n",
       "    .dataframe tbody tr th {\n",
       "        vertical-align: top;\n",
       "    }\n",
       "\n",
       "    .dataframe thead th {\n",
       "        text-align: right;\n",
       "    }\n",
       "</style>\n",
       "<table border=\"1\" class=\"dataframe\">\n",
       "  <thead>\n",
       "    <tr style=\"text-align: right;\">\n",
       "      <th></th>\n",
       "      <th>Predicted Likes</th>\n",
       "      <th>Actual Likes</th>\n",
       "      <th>MAE</th>\n",
       "      <th>MSE</th>\n",
       "      <th>RMSE</th>\n",
       "      <th>Precision</th>\n",
       "    </tr>\n",
       "  </thead>\n",
       "  <tbody>\n",
       "    <tr>\n",
       "      <th>0</th>\n",
       "      <td>4343442</td>\n",
       "      <td>988238</td>\n",
       "      <td>1.471733</td>\n",
       "      <td>3.30288</td>\n",
       "      <td>1.817383</td>\n",
       "      <td>0.227524</td>\n",
       "    </tr>\n",
       "  </tbody>\n",
       "</table>\n",
       "</div>"
      ],
      "text/plain": [
       "   Predicted Likes  Actual Likes       MAE      MSE      RMSE  Precision\n",
       "0          4343442        988238  1.471733  3.30288  1.817383   0.227524"
      ]
     },
     "execution_count": 19,
     "metadata": {},
     "output_type": "execute_result"
    }
   ],
   "source": [
    "# Evaluate the Word2Vec model\n",
    "metrics_w2v = evaluate_and_print_metrics(recommenderW2V, \"Word2Vec\", ratings_df, users_rated_high, random_movie_ids)\n",
    "metrics.append({'model': 'Word2Vec', 'mae': metrics_w2v['MAE'], 'mse': metrics_w2v['MSE'], 'rmse': metrics_w2v['RMSE'], 'precision': metrics_w2v['Precision']})\n",
    "\n",
    "# Display the results as a DataFrame\n",
    "pd.DataFrame(metrics_w2v, index=[0])"
   ]
  },
  {
   "cell_type": "markdown",
   "id": "6110c5b3-f06e-450f-951c-e80c3cea7c43",
   "metadata": {},
   "source": [
    "**b. Optimized Model**"
   ]
  },
  {
   "cell_type": "code",
   "execution_count": 20,
   "id": "47ff47eb-de6a-4f63-88be-7b31ec5c4e66",
   "metadata": {},
   "outputs": [],
   "source": [
    "# Load the saved model\n",
    "with open('../02_Models/content_recommender_w2v_opt.pkl', 'rb') as file:\n",
    "    recommenderW2VOptimized = pickle.load(file)"
   ]
  },
  {
   "cell_type": "code",
   "execution_count": 21,
   "id": "f82df153-2014-4244-a726-ca53b964c84e",
   "metadata": {},
   "outputs": [
    {
     "name": "stdout",
     "output_type": "stream",
     "text": [
      "Time taken for evaluation: 126.89361047744751 seconds\n",
      "\n",
      "Metrics for Word2Vec (Optimized):\n",
      "- MAE: 1.4426\n",
      "- MSE: 3.2046\n",
      "- RMSE: 1.7901\n",
      "- Precision: 0.2381\n",
      "\n"
     ]
    },
    {
     "data": {
      "text/html": [
       "<div>\n",
       "<style scoped>\n",
       "    .dataframe tbody tr th:only-of-type {\n",
       "        vertical-align: middle;\n",
       "    }\n",
       "\n",
       "    .dataframe tbody tr th {\n",
       "        vertical-align: top;\n",
       "    }\n",
       "\n",
       "    .dataframe thead th {\n",
       "        text-align: right;\n",
       "    }\n",
       "</style>\n",
       "<table border=\"1\" class=\"dataframe\">\n",
       "  <thead>\n",
       "    <tr style=\"text-align: right;\">\n",
       "      <th></th>\n",
       "      <th>Predicted Likes</th>\n",
       "      <th>Actual Likes</th>\n",
       "      <th>MAE</th>\n",
       "      <th>MSE</th>\n",
       "      <th>RMSE</th>\n",
       "      <th>Precision</th>\n",
       "    </tr>\n",
       "  </thead>\n",
       "  <tbody>\n",
       "    <tr>\n",
       "      <th>0</th>\n",
       "      <td>4077471</td>\n",
       "      <td>970648</td>\n",
       "      <td>1.442558</td>\n",
       "      <td>3.204612</td>\n",
       "      <td>1.790143</td>\n",
       "      <td>0.238051</td>\n",
       "    </tr>\n",
       "  </tbody>\n",
       "</table>\n",
       "</div>"
      ],
      "text/plain": [
       "   Predicted Likes  Actual Likes       MAE       MSE      RMSE  Precision\n",
       "0          4077471        970648  1.442558  3.204612  1.790143   0.238051"
      ]
     },
     "execution_count": 21,
     "metadata": {},
     "output_type": "execute_result"
    }
   ],
   "source": [
    "# Evaluate the Word2Vec model\n",
    "metrics_w2v_opt = evaluate_and_print_metrics(recommenderW2VOptimized, \"Word2Vec (Optimized)\", ratings_df, users_rated_high, random_movie_ids)\n",
    "metrics.append({'model': 'Word2Vec (Optimized)', 'mae': metrics_w2v_opt['MAE'], 'mse': metrics_w2v_opt['MSE'], 'rmse': metrics_w2v_opt['RMSE'], 'precision': metrics_w2v_opt['Precision']})\n",
    "\n",
    "# Display the results as a DataFrame\n",
    "pd.DataFrame(metrics_w2v_opt, index=[0])"
   ]
  },
  {
   "cell_type": "markdown",
   "id": "82f4d1ae-04dc-4d90-88d5-0af50152c27f",
   "metadata": {},
   "source": [
    "### **5.1.4 Doc2Vec**"
   ]
  },
  {
   "cell_type": "markdown",
   "id": "a1f95edc-bae1-4b5a-a3c0-a95c93637755",
   "metadata": {},
   "source": [
    "**a. Regular Model**"
   ]
  },
  {
   "cell_type": "code",
   "execution_count": 22,
   "id": "c13d840d-b953-4838-a48d-4ddacb2e3734",
   "metadata": {},
   "outputs": [],
   "source": [
    "# Load the saved model\n",
    "with open('../02_Models/content_recommender_D2V.pkl', 'rb') as file:\n",
    "    recommenderD2V = pickle.load(file)"
   ]
  },
  {
   "cell_type": "code",
   "execution_count": 23,
   "id": "1a010af6-39cd-4699-a4f3-c419a754ea07",
   "metadata": {},
   "outputs": [
    {
     "name": "stdout",
     "output_type": "stream",
     "text": [
      "Time taken for evaluation: 780.2526478767395 seconds\n",
      "\n",
      "Metrics for Doc2Vec:\n",
      "- MAE: 1.4299\n",
      "- MSE: 3.1305\n",
      "- RMSE: 1.7693\n",
      "- Precision: 0.2342\n",
      "\n"
     ]
    },
    {
     "data": {
      "text/html": [
       "<div>\n",
       "<style scoped>\n",
       "    .dataframe tbody tr th:only-of-type {\n",
       "        vertical-align: middle;\n",
       "    }\n",
       "\n",
       "    .dataframe tbody tr th {\n",
       "        vertical-align: top;\n",
       "    }\n",
       "\n",
       "    .dataframe thead th {\n",
       "        text-align: right;\n",
       "    }\n",
       "</style>\n",
       "<table border=\"1\" class=\"dataframe\">\n",
       "  <thead>\n",
       "    <tr style=\"text-align: right;\">\n",
       "      <th></th>\n",
       "      <th>Predicted Likes</th>\n",
       "      <th>Actual Likes</th>\n",
       "      <th>MAE</th>\n",
       "      <th>MSE</th>\n",
       "      <th>RMSE</th>\n",
       "      <th>Precision</th>\n",
       "    </tr>\n",
       "  </thead>\n",
       "  <tbody>\n",
       "    <tr>\n",
       "      <th>0</th>\n",
       "      <td>4125879</td>\n",
       "      <td>966463</td>\n",
       "      <td>1.42985</td>\n",
       "      <td>3.130451</td>\n",
       "      <td>1.769308</td>\n",
       "      <td>0.234244</td>\n",
       "    </tr>\n",
       "  </tbody>\n",
       "</table>\n",
       "</div>"
      ],
      "text/plain": [
       "   Predicted Likes  Actual Likes      MAE       MSE      RMSE  Precision\n",
       "0          4125879        966463  1.42985  3.130451  1.769308   0.234244"
      ]
     },
     "execution_count": 23,
     "metadata": {},
     "output_type": "execute_result"
    }
   ],
   "source": [
    "# Evaluate the Doc2Vec model\n",
    "metrics_d2v = evaluate_and_print_metrics(recommenderD2V, \"Doc2Vec\", ratings_df, users_rated_high, random_movie_ids)\n",
    "metrics.append({'model': 'Doc2Vec', 'mae': metrics_d2v['MAE'], 'mse': metrics_d2v['MSE'], 'rmse': metrics_d2v['RMSE'], 'precision': metrics_d2v['Precision']})\n",
    "\n",
    "# Display the results as a DataFrame\n",
    "pd.DataFrame(metrics_d2v, index=[0])"
   ]
  },
  {
   "cell_type": "markdown",
   "id": "86a3772e-5eca-49b4-953d-48778929178e",
   "metadata": {},
   "source": [
    "**b. Optimized Model**"
   ]
  },
  {
   "cell_type": "code",
   "execution_count": 24,
   "id": "4099ef6a-c8f0-4aa1-9e51-27c0995108ac",
   "metadata": {},
   "outputs": [],
   "source": [
    "# Load the saved model\n",
    "with open('../02_Models/content_recommender_D2V_opt.pkl', 'rb') as file:\n",
    "    recommenderD2VOptimized = pickle.load(file)"
   ]
  },
  {
   "cell_type": "code",
   "execution_count": 25,
   "id": "62dcbe2d-d45a-4551-b915-d0f9d7e3bd81",
   "metadata": {
    "tags": []
   },
   "outputs": [
    {
     "name": "stdout",
     "output_type": "stream",
     "text": [
      "Time taken for evaluation: 136.86385297775269 seconds\n",
      "\n",
      "Metrics for Doc2Vec (Optimized):\n",
      "- MAE: 1.4728\n",
      "- MSE: 3.3083\n",
      "- RMSE: 1.8189\n",
      "- Precision: 0.2286\n",
      "\n"
     ]
    },
    {
     "data": {
      "text/html": [
       "<div>\n",
       "<style scoped>\n",
       "    .dataframe tbody tr th:only-of-type {\n",
       "        vertical-align: middle;\n",
       "    }\n",
       "\n",
       "    .dataframe tbody tr th {\n",
       "        vertical-align: top;\n",
       "    }\n",
       "\n",
       "    .dataframe thead th {\n",
       "        text-align: right;\n",
       "    }\n",
       "</style>\n",
       "<table border=\"1\" class=\"dataframe\">\n",
       "  <thead>\n",
       "    <tr style=\"text-align: right;\">\n",
       "      <th></th>\n",
       "      <th>Predicted Likes</th>\n",
       "      <th>Actual Likes</th>\n",
       "      <th>MAE</th>\n",
       "      <th>MSE</th>\n",
       "      <th>RMSE</th>\n",
       "      <th>Precision</th>\n",
       "    </tr>\n",
       "  </thead>\n",
       "  <tbody>\n",
       "    <tr>\n",
       "      <th>0</th>\n",
       "      <td>3550239</td>\n",
       "      <td>811561</td>\n",
       "      <td>1.47277</td>\n",
       "      <td>3.308277</td>\n",
       "      <td>1.818867</td>\n",
       "      <td>0.228593</td>\n",
       "    </tr>\n",
       "  </tbody>\n",
       "</table>\n",
       "</div>"
      ],
      "text/plain": [
       "   Predicted Likes  Actual Likes      MAE       MSE      RMSE  Precision\n",
       "0          3550239        811561  1.47277  3.308277  1.818867   0.228593"
      ]
     },
     "execution_count": 25,
     "metadata": {},
     "output_type": "execute_result"
    }
   ],
   "source": [
    "# Evaluate the Doc2Vec model\n",
    "metrics_d2v_opt = evaluate_and_print_metrics(recommenderD2VOptimized, \"Doc2Vec (Optimized)\", ratings_df, users_rated_high, random_movie_ids)\n",
    "metrics.append({'model': 'Doc2Vec (Optimized)', 'mae': metrics_d2v_opt['MAE'], 'mse': metrics_d2v_opt['MSE'], 'rmse': metrics_d2v_opt['RMSE'], 'precision': metrics_d2v_opt['Precision']})\n",
    "\n",
    "# Display the results as a DataFrame\n",
    "pd.DataFrame(metrics_d2v_opt, index=[0])"
   ]
  },
  {
   "cell_type": "markdown",
   "id": "e43169e7-20cb-4077-8a17-7f3a22c50f5f",
   "metadata": {},
   "source": [
    "---\n",
    "\n",
    "## 5.2 Evaluation of Collaborative-Based Recommender Systems"
   ]
  },
  {
   "cell_type": "code",
   "execution_count": 26,
   "id": "23a9a9e9-8315-4667-9a6f-af7b15681692",
   "metadata": {},
   "outputs": [
    {
     "name": "stdout",
     "output_type": "stream",
     "text": [
      "Elapsed time: 387.98 seconds\n"
     ]
    }
   ],
   "source": [
    "# Start tracking time\n",
    "start_time = time.time()\n",
    "\n",
    "# Create a reader with a rating scale from 1 to 5\n",
    "reader = Reader(rating_scale=(1, 5))\n",
    "\n",
    "# Load the ratings data into a Surprise Dataset format\n",
    "data = Dataset.load_from_df(ratings_df[['userId', 'movieId', 'rating']], reader)\n",
    "\n",
    "# Split the dataset into training and testing sets using a 75/25 ratio\n",
    "trainset, testset = train_test_split(data, test_size=.25)\n",
    "\n",
    "# Function to load the SVD model\n",
    "def load_model(model_path):\n",
    "    return joblib.load(model_path)\n",
    "\n",
    "# Load the pre-trained SVD model\n",
    "svd = load_model('../02_Models/svd_model.pkl')\n",
    "\n",
    "# Use SVD model to make predictions on testing set\n",
    "predicts = svd.test(testset)\n",
    "\n",
    "# Calculate and print the elapsed time\n",
    "elapsed_time = time.time() - start_time\n",
    "print(f\"Elapsed time: {elapsed_time:.2f} seconds\")"
   ]
  },
  {
   "cell_type": "code",
   "execution_count": 27,
   "id": "6ff184ee-c63d-4361-808f-ee7b500583d8",
   "metadata": {},
   "outputs": [],
   "source": [
    "# Singular Value Decomposition (SVD)\n",
    "# The number of components was selected based on an experiment where we evaluated 3 different options: 50 - 150 - 250. The one with the best RMSE was 50 components, given the process of running the experiment\n",
    "# consumes a lot of time, the results of that expirement are stored in a separated notebook under 02_code/05_icbf.ipynb\n",
    "svd = SVD(n_factors=50)\n",
    "svd.fit(trainset)\n",
    "predicts = svd.test(testset)"
   ]
  },
  {
   "cell_type": "code",
   "execution_count": 28,
   "id": "59787c97-2973-4a53-9d1c-7c7f23738d24",
   "metadata": {},
   "outputs": [],
   "source": [
    "def precision_recall_at_k(predictions, k=10, threshold=4.0):\n",
    "    \"\"\"Return precision and recall at k metrics for each user\"\"\"\n",
    "\n",
    "    # First map the predictions to each user.\n",
    "    user_est_true = defaultdict(list)\n",
    "    for uid, _, true_r, est, _ in predictions:\n",
    "        user_est_true[uid].append((est, true_r))\n",
    "\n",
    "    precisions = dict()\n",
    "    recalls = dict()\n",
    "    for uid, user_ratings in user_est_true.items():\n",
    "\n",
    "        # Sort user ratings by estimated value\n",
    "        user_ratings.sort(key=lambda x: x[0], reverse=True)\n",
    "\n",
    "        # Number of relevant items\n",
    "        n_rel = sum((true_r >= threshold) for (_, true_r) in user_ratings)\n",
    "\n",
    "        # Number of recommended items in top k\n",
    "        n_rec_k = sum((est >= threshold) for (est, _) in user_ratings[:k])\n",
    "\n",
    "        # Number of relevant and recommended items in top k\n",
    "        n_rel_and_rec_k = sum(\n",
    "            ((true_r >= threshold) and (est >= threshold))\n",
    "            for (est, true_r) in user_ratings[:k]\n",
    "        )\n",
    "\n",
    "        # Precision@K: Proportion of recommended items that are relevant\n",
    "        # When n_rec_k is 0, Precision is undefined. We here set it to 0.\n",
    "\n",
    "        precisions[uid] = n_rel_and_rec_k / n_rec_k if n_rec_k != 0 else 0\n",
    "\n",
    "        # Recall@K: Proportion of relevant items that are recommended\n",
    "        # When n_rel is 0, Recall is undefined. We here set it to 0.\n",
    "\n",
    "        recalls[uid] = n_rel_and_rec_k / n_rel if n_rel != 0 else 0\n",
    "\n",
    "    return precisions, recalls"
   ]
  },
  {
   "cell_type": "code",
   "execution_count": 32,
   "id": "ed617350-9502-4771-b917-32eadd0cb02c",
   "metadata": {},
   "outputs": [
    {
     "data": {
      "text/html": [
       "<div>\n",
       "<style scoped>\n",
       "    .dataframe tbody tr th:only-of-type {\n",
       "        vertical-align: middle;\n",
       "    }\n",
       "\n",
       "    .dataframe tbody tr th {\n",
       "        vertical-align: top;\n",
       "    }\n",
       "\n",
       "    .dataframe thead th {\n",
       "        text-align: right;\n",
       "    }\n",
       "</style>\n",
       "<table border=\"1\" class=\"dataframe\">\n",
       "  <thead>\n",
       "    <tr style=\"text-align: right;\">\n",
       "      <th></th>\n",
       "      <th>MAE</th>\n",
       "      <th>MSE</th>\n",
       "      <th>RMSE</th>\n",
       "      <th>RECALL</th>\n",
       "    </tr>\n",
       "  </thead>\n",
       "  <tbody>\n",
       "    <tr>\n",
       "      <th>Collab Filtering (SVD)</th>\n",
       "      <td>0.590705</td>\n",
       "      <td>0.611554</td>\n",
       "      <td>0.782019</td>\n",
       "      <td>0.352268</td>\n",
       "    </tr>\n",
       "  </tbody>\n",
       "</table>\n",
       "</div>"
      ],
      "text/plain": [
       "                             MAE       MSE      RMSE    RECALL\n",
       "Collab Filtering (SVD)  0.590705  0.611554  0.782019  0.352268"
      ]
     },
     "execution_count": 32,
     "metadata": {},
     "output_type": "execute_result"
    }
   ],
   "source": [
    "# Evaluate the SVD model\n",
    "precisions, recalls = precision_recall_at_k(predicts, k=10, threshold=4)\n",
    "mse, rmse, mae = accuracy.mse(predicts,verbose=False), accuracy.rmse(predicts,verbose=False), accuracy.mae(predicts,verbose=False)\n",
    "\n",
    "# Display the results\n",
    "metrics_svd = {'Collab Filtering (SVD)': {'MAE': mae, 'MSE': mse, 'RMSE': rmse, 'RECALL': np.mean(list(recalls.values()))}}\n",
    "metrics.append({'model': 'Collab Filtering (SVD)', 'mae': mae, 'mse': mse, 'rmse': rmse, 'precision': np.mean(list(recalls.values()))})\n",
    "metrics_svd = pd.DataFrame.from_dict(metrics_svd, orient='index')\n",
    "metrics_svd"
   ]
  },
  {
   "cell_type": "markdown",
   "id": "62efc7a2-effb-43ef-9bfa-19b71341080e",
   "metadata": {},
   "source": [
    "---\n",
    "\n",
    "## 5.3 Evaluation of Hybrid Recommender Systems\n",
    "\n",
    "### **5.3.1 Importing and applying model**"
   ]
  },
  {
   "cell_type": "markdown",
   "id": "5739e340-cfc0-42e5-add9-a1eb662781dc",
   "metadata": {},
   "source": [
    "**Load content-based recommender model (Word2Vec)**"
   ]
  },
  {
   "cell_type": "code",
   "execution_count": null,
   "id": "49ac3de8-3f83-4b0b-a3e9-8fc6c0f556e9",
   "metadata": {},
   "outputs": [],
   "source": [
    "# Load the saved model\n",
    "with open('../02_Models/content_recommender_w2v.pkl', 'rb') as file:\n",
    "    recommenderW2V = pickle.load(file)f"
   ]
  },
  {
   "cell_type": "markdown",
   "id": "b1e7df94-fac2-4bbd-b765-7412e792d71c",
   "metadata": {},
   "source": [
    "**Load item-based collaborative-filtering recommender model (SVD)**"
   ]
  },
  {
   "cell_type": "code",
   "execution_count": null,
   "id": "f8a975e4-234a-4637-935f-1bf26b5afb34",
   "metadata": {},
   "outputs": [],
   "source": [
    "# Start tracking time\n",
    "start_time = time.time()\n",
    "\n",
    "# Create a reader with a rating scale from 1 to 5\n",
    "reader = Reader(rating_scale=(1, 5))\n",
    "\n",
    "# Load the ratings data into a Surprise Dataset format\n",
    "data = Dataset.load_from_df(ratings_df[['userId', 'movieId', 'rating']], reader)\n",
    "\n",
    "# Build a full trainset for the SVD model\n",
    "full_trainset = data.build_full_trainset()\n",
    "\n",
    "# Function to load the SVD model\n",
    "def load_model(model_path):\n",
    "    return joblib.load(model_path)\n",
    "\n",
    "# Load the pre-trained SVD model\n",
    "svd = load_model('../02_Models/svd_model.pkl')\n",
    "\n",
    "# Fit the SVD model on the full trainset\n",
    "svd.fit(full_trainset)\n",
    "\n",
    "# Calculate and print the elapsed time\n",
    "elapsed_time = time.time() - start_time\n",
    "print(f\"Elapsed time: {elapsed_time:.2f} seconds\")"
   ]
  },
  {
   "cell_type": "markdown",
   "id": "e7c446e9-fbd6-4b1a-9008-f2f324082b5e",
   "metadata": {},
   "source": [
    "---\n",
    "\n",
    "## 5.4 Results"
   ]
  },
  {
   "cell_type": "code",
   "execution_count": 41,
   "id": "30ef9a0a-bdb4-430d-bb7b-ea8d9f3daaaf",
   "metadata": {},
   "outputs": [],
   "source": [
    "# Convert the list of dictionaries into a DataFrame\n",
    "metrics_df = pd.DataFrame(metrics)"
   ]
  },
  {
   "cell_type": "code",
   "execution_count": 43,
   "id": "3e9524eb-faa5-4837-8af2-d8ad41e3d00d",
   "metadata": {},
   "outputs": [
    {
     "data": {
      "text/html": [
       "<div>\n",
       "<style scoped>\n",
       "    .dataframe tbody tr th:only-of-type {\n",
       "        vertical-align: middle;\n",
       "    }\n",
       "\n",
       "    .dataframe tbody tr th {\n",
       "        vertical-align: top;\n",
       "    }\n",
       "\n",
       "    .dataframe thead th {\n",
       "        text-align: right;\n",
       "    }\n",
       "</style>\n",
       "<table border=\"1\" class=\"dataframe\">\n",
       "  <thead>\n",
       "    <tr style=\"text-align: right;\">\n",
       "      <th></th>\n",
       "      <th>model</th>\n",
       "      <th>mae</th>\n",
       "      <th>mse</th>\n",
       "      <th>rmse</th>\n",
       "      <th>precision</th>\n",
       "    </tr>\n",
       "  </thead>\n",
       "  <tbody>\n",
       "    <tr>\n",
       "      <th>0</th>\n",
       "      <td>TF-IDF Vectorizer</td>\n",
       "      <td>1.424663</td>\n",
       "      <td>3.162091</td>\n",
       "      <td>1.778227</td>\n",
       "      <td>0.247810</td>\n",
       "    </tr>\n",
       "    <tr>\n",
       "      <th>1</th>\n",
       "      <td>Count Vectorizer</td>\n",
       "      <td>1.498283</td>\n",
       "      <td>3.400338</td>\n",
       "      <td>1.844000</td>\n",
       "      <td>0.221084</td>\n",
       "    </tr>\n",
       "    <tr>\n",
       "      <th>2</th>\n",
       "      <td>Count Vectorizer (Optimized)</td>\n",
       "      <td>1.799564</td>\n",
       "      <td>4.180955</td>\n",
       "      <td>2.044738</td>\n",
       "      <td>0.082462</td>\n",
       "    </tr>\n",
       "    <tr>\n",
       "      <th>3</th>\n",
       "      <td>Word2Vec</td>\n",
       "      <td>1.471733</td>\n",
       "      <td>3.302880</td>\n",
       "      <td>1.817383</td>\n",
       "      <td>0.227524</td>\n",
       "    </tr>\n",
       "    <tr>\n",
       "      <th>4</th>\n",
       "      <td>Word2Vec (Optimized)</td>\n",
       "      <td>1.442558</td>\n",
       "      <td>3.204612</td>\n",
       "      <td>1.790143</td>\n",
       "      <td>0.238051</td>\n",
       "    </tr>\n",
       "    <tr>\n",
       "      <th>5</th>\n",
       "      <td>Doc2Vec</td>\n",
       "      <td>1.429850</td>\n",
       "      <td>3.130451</td>\n",
       "      <td>1.769308</td>\n",
       "      <td>0.234244</td>\n",
       "    </tr>\n",
       "    <tr>\n",
       "      <th>6</th>\n",
       "      <td>Doc2Vec (Optimized)</td>\n",
       "      <td>1.472770</td>\n",
       "      <td>3.308277</td>\n",
       "      <td>1.818867</td>\n",
       "      <td>0.228593</td>\n",
       "    </tr>\n",
       "    <tr>\n",
       "      <th>7</th>\n",
       "      <td>Collab Filtering (SVD)</td>\n",
       "      <td>0.590705</td>\n",
       "      <td>0.611554</td>\n",
       "      <td>0.782019</td>\n",
       "      <td>0.352268</td>\n",
       "    </tr>\n",
       "  </tbody>\n",
       "</table>\n",
       "</div>"
      ],
      "text/plain": [
       "                          model       mae       mse      rmse  precision\n",
       "0             TF-IDF Vectorizer  1.424663  3.162091  1.778227   0.247810\n",
       "1              Count Vectorizer  1.498283  3.400338  1.844000   0.221084\n",
       "2  Count Vectorizer (Optimized)  1.799564  4.180955  2.044738   0.082462\n",
       "3                      Word2Vec  1.471733  3.302880  1.817383   0.227524\n",
       "4          Word2Vec (Optimized)  1.442558  3.204612  1.790143   0.238051\n",
       "5                       Doc2Vec  1.429850  3.130451  1.769308   0.234244\n",
       "6           Doc2Vec (Optimized)  1.472770  3.308277  1.818867   0.228593\n",
       "7        Collab Filtering (SVD)  0.590705  0.611554  0.782019   0.352268"
      ]
     },
     "execution_count": 43,
     "metadata": {},
     "output_type": "execute_result"
    }
   ],
   "source": [
    "# Display the DataFrame\n",
    "metrics_df"
   ]
  },
  {
   "cell_type": "markdown",
   "id": "9c40c7ed-8f23-462a-ba65-6e6daabd8627",
   "metadata": {},
   "source": [
    "---\n",
    "\n",
    "## 5.5 Limitations"
   ]
  },
  {
   "cell_type": "markdown",
   "id": "fc4e3a40-5fb4-43a2-b56e-09dd08e6177f",
   "metadata": {},
   "source": [
    "One limitation of comparing content-based recommenders with the ratings-based (collaborative-filtering) recommender in terms of metrics such as MAE, MSE, RMSE, and Precision is that the models are constructed to address different prediction tasks. Ratings-based systems predict user-item ratings based on past user behavior, while content-based systems recommend items based on their similarity to items the user has liked in the past. The MAE, for example, focuses on the accuracy of predicted ratings, which is not the primary goal of content-based recommendations.\n",
    "\n",
    "Accordingly, the ratings-based model leads to ratings that are 24.8% higher than the average rating score across all movies while the content-based model outperforms the average rating by only 1.2% (both metrics with 95% confidence). Accordingly, a hybrid model of the two may lead to the best recommendations as it combines both user behavior and thematic interest."
   ]
  },
  {
   "cell_type": "markdown",
   "id": "15a98407-ceae-4bd9-bc68-6efdda8a7561",
   "metadata": {},
   "source": [
    "---\n",
    "\n",
    "## 5.6 Next Steps"
   ]
  },
  {
   "cell_type": "markdown",
   "id": "57851568-47eb-4a27-8eab-70787954403c",
   "metadata": {},
   "source": [
    "As stated above, the two types of recommender systems fulfill different purposes and are therefore difficult to compare using above metrics. Therefore, we suggest Streamify to run an A/B testing on it's platform and benchmark the following three recommenders:\n",
    "* TF-IDF Vectorizer (the best-performing content-based recommender)\n",
    "* Collaborative Filtering using SVD (the best-perofming recommender overall)\n",
    "* The Hybrid model of both recommenders\n",
    "\n",
    "In doing so, the platform will be able to pick the best recommender for long-term implementation. Implementation examples for the recommenders can be found in the three Showcase Notebooks (07)."
   ]
  },
  {
   "cell_type": "markdown",
   "id": "5bb649d0-5ce4-4710-8d2e-60ac58eec127",
   "metadata": {},
   "source": [
    "---\n",
    "\n",
    "# **Sources**\n",
    "\n",
    "    Bobadilla, J., Ortega, F., Hernando, A., & Gutiérrez, A. (2013). Recommender systems survey. Knowledge-Based Systems, 46, 109-132.\n",
    "\n",
    "    Cochran, W.G. (1977). Sampling Techniques (3rd ed.). New York: John Wiley & Sons.\n",
    "\n",
    "    Cremonesi, P., Koren, Y., & Turrin, R. (2010). Performance of recommender algorithms on top-N recommendation tasks. In Proceedings of the fourth ACM conference on Recommender systems (pp. 39-46).\n",
    "\n",
    "    Hu, N., Zhang, J., & Pavlou, P. A. (2009). Overcoming the J-shaped distribution of product reviews. Communications of the ACM, 52(10), 144-147."
   ]
  }
 ],
 "metadata": {
  "kernelspec": {
   "display_name": "Python 3 (ipykernel)",
   "language": "python",
   "name": "python3"
  },
  "language_info": {
   "codemirror_mode": {
    "name": "ipython",
    "version": 3
   },
   "file_extension": ".py",
   "mimetype": "text/x-python",
   "name": "python",
   "nbconvert_exporter": "python",
   "pygments_lexer": "ipython3",
   "version": "3.9.13"
  }
 },
 "nbformat": 4,
 "nbformat_minor": 5
}
